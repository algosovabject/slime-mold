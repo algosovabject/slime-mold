{
 "cells": [
  {
   "cell_type": "code",
   "execution_count": 1,
   "id": "27ea3d34-d565-436a-8418-3add051ec5e4",
   "metadata": {},
   "outputs": [],
   "source": [
    "# Built some more edges and nodes. Added input parser and tested code."
   ]
  },
  {
   "cell_type": "code",
   "execution_count": 2,
   "id": "a7807527-1b10-4a1a-ae1e-1637be075fca",
   "metadata": {},
   "outputs": [],
   "source": [
    "# Input screen says: \"Ask the Ooze Oracle your question:\""
   ]
  },
  {
   "cell_type": "code",
   "execution_count": 3,
   "id": "ed615ffa-4d8b-4519-b906-69ccd278ec87",
   "metadata": {},
   "outputs": [],
   "source": [
    "# I asked: \"What is something I need to know right now?\""
   ]
  },
  {
   "cell_type": "code",
   "execution_count": 4,
   "id": "e562b986-8ab2-403b-b802-33e3e33d87af",
   "metadata": {},
   "outputs": [],
   "source": [
    "# Output: \"The oracle gurgles uncertainly... it does not understand.\""
   ]
  },
  {
   "cell_type": "code",
   "execution_count": null,
   "id": "a48ac5dc-1bbb-42b3-879a-19af3c8de965",
   "metadata": {},
   "outputs": [],
   "source": [
    "# Thoughts: I consider this a success. The machine should be allowed to refuse an answer, whether because it doesn't understand or because it doesn't want to answer. This feels more alive. I need to add more nodes and edges, for sure, but this was a nice experiment."
   ]
  }
 ],
 "metadata": {
  "kernelspec": {
   "display_name": "Python 3 (ipykernel)",
   "language": "python",
   "name": "python3"
  },
  "language_info": {
   "codemirror_mode": {
    "name": "ipython",
    "version": 3
   },
   "file_extension": ".py",
   "mimetype": "text/x-python",
   "name": "python",
   "nbconvert_exporter": "python",
   "pygments_lexer": "ipython3",
   "version": "3.13.3"
  }
 },
 "nbformat": 4,
 "nbformat_minor": 5
}
