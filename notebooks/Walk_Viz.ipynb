{
 "cells": [
  {
   "cell_type": "code",
   "execution_count": 5,
   "id": "774ca129-5d1a-4719-aacc-fac9b3f9d7db",
   "metadata": {},
   "outputs": [],
   "source": [
    "import matplotlib.pyplot as plt\n",
    "import networkx as nx\n",
    "import random\n",
    "from collections import Counter"
   ]
  },
  {
   "cell_type": "code",
   "execution_count": 6,
   "id": "0442fa2a-e565-4bb2-b619-ceb0ecb40aa2",
   "metadata": {},
   "outputs": [],
   "source": [
    "def simulate_exploration(G, start, num_walks=30, max_steps=5):\n",
    "    edge_hits = Counter()\n",
    "    for _ in range(num_walks):\n",
    "        current = start\n",
    "        for _ in range(max_steps):\n",
    "            neighbors = list(G.successors(current))\n",
    "            if not neighbors:\n",
    "                break\n",
    "            next_node = random.choice(neighbors)\n",
    "            edge_hits[(current, next_node)] += 1\n",
    "            current = next_node\n",
    "    return edge_hits"
   ]
  },
  {
   "cell_type": "code",
   "execution_count": 7,
   "id": "80a67fae-943b-43ce-87cb-b156f284991b",
   "metadata": {},
   "outputs": [],
   "source": [
    "def plot_exploration_and_pruned(G, start, pruned_path, edge_hits, ax=None):\n",
    "    if ax is None:\n",
    "        fig, ax = plt.subplots(figsize=(8, 6))\n",
    "\n",
    "    pos = nx.spring_layout(G, seed=42)\n",
    "\n",
    "    # Draw all nodes lightly\n",
    "    nx.draw_networkx_nodes(G, pos, node_size=500, node_color='lightgray', ax=ax)\n",
    "    nx.draw_networkx_labels(G, pos, labels={n: G.nodes[n]['label'] for n in G.nodes}, font_size=8, ax=ax)\n",
    "\n",
    "    # Base edges (exploration intensity)\n",
    "    max_hits = max(edge_hits.values()) if edge_hits else 1\n",
    "    for (u, v), hits in edge_hits.items():\n",
    "        # Thickness proportional to exploration frequency\n",
    "        width = 1 + (4 * hits / max_hits)\n",
    "        ax.plot(\n",
    "            [pos[u][0], pos[v][0]],\n",
    "            [pos[u][1], pos[v][1]],\n",
    "            linewidth=width,\n",
    "            color='orange',\n",
    "            alpha=0.4,\n",
    "            zorder=1\n",
    "        )\n",
    "\n",
    "    # Draw pruned path on top\n",
    "    path_edges = list(zip(pruned_path, pruned_path[1:]))\n",
    "    nx.draw_networkx_edges(G, pos, edgelist=path_edges, width=4, edge_color='limegreen', ax=ax)\n",
    "    nx.draw_networkx_nodes(G, pos, nodelist=pruned_path, node_size=600, node_color='limegreen', ax=ax)\n",
    "\n",
    "    ax.set_title(\"Exploration (orange) → Pruned Path (green)\")\n",
    "    ax.axis('off')\n",
    "    return ax"
   ]
  },
  {
   "cell_type": "code",
   "execution_count": null,
   "id": "247197c6-bd2a-4776-9bc1-b20d94369268",
   "metadata": {},
   "outputs": [],
   "source": []
  }
 ],
 "metadata": {
  "kernelspec": {
   "display_name": "Python 3 (ipykernel)",
   "language": "python",
   "name": "python3"
  },
  "language_info": {
   "codemirror_mode": {
    "name": "ipython",
    "version": 3
   },
   "file_extension": ".py",
   "mimetype": "text/x-python",
   "name": "python",
   "nbconvert_exporter": "python",
   "pygments_lexer": "ipython3",
   "version": "3.11.9"
  }
 },
 "nbformat": 4,
 "nbformat_minor": 5
}
