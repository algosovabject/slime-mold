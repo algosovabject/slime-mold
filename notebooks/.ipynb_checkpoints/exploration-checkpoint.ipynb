{
 "cells": [
  {
   "cell_type": "code",
   "execution_count": null,
   "id": "e51a56f5-980c-42ab-9df8-ce59a6cfb92a",
   "metadata": {},
   "outputs": [],
   "source": [
    "import matplotlib.pyplot as plt\n",
    "import networkx as nx\n",
    "from graph_builder import load_graph\n",
    "from ooze_engine import find_ooze_path"
   ]
  },
  {
   "cell_type": "code",
   "execution_count": null,
   "id": "821664f3-6a9c-423b-b941-932e3d02093a",
   "metadata": {},
   "outputs": [],
   "source": [
    "G = load_graph('../data/symbols.yaml')\n",
    "path = find_ooze_path(G, 'hunger', 'rebirth')\n",
    "\n",
    "pos = nx.spring_layout(G)\n",
    "edge_colors = ['red' if (u, v) in zip(path, path[1:]) else 'gray' for u, v in G.edges]\n",
    "\n",
    "nx.draw(G, pos, with_labels=True, node_color='black', font_color='white', edge_color=edge_colors)\n",
    "plt.savefig('../visuals/ooze_path.png')"
   ]
  }
 ],
 "metadata": {
  "kernelspec": {
   "display_name": "Python 3 (ipykernel)",
   "language": "python",
   "name": "python3"
  },
  "language_info": {
   "codemirror_mode": {
    "name": "ipython",
    "version": 3
   },
   "file_extension": ".py",
   "mimetype": "text/x-python",
   "name": "python",
   "nbconvert_exporter": "python",
   "pygments_lexer": "ipython3",
   "version": "3.13.3"
  }
 },
 "nbformat": 4,
 "nbformat_minor": 5
}
